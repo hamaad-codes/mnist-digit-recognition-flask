{
 "cells": [
  {
   "cell_type": "code",
   "execution_count": 27,
   "id": "08cb576f",
   "metadata": {},
   "outputs": [],
   "source": [
    "import numpy as np\n",
    "import pandas as pd\n",
    "import matplotlib.pyplot as plt\n",
    "import seaborn as sns\n",
    "import itertools\n",
    "\n",
    "from sklearn.model_selection import train_test_split\n",
    "from sklearn.metrics import confusion_matrix\n",
    "\n",
    "from tensorflow.keras.utils import to_categorical\n",
    "from tensorflow.keras.models import Sequential\n",
    "from tensorflow.keras.layers import Conv2D, MaxPool2D, Flatten, Dense, Dropout\n",
    "from tensorflow.keras.optimizers import Adam\n",
    "from tensorflow.keras.callbacks import ReduceLROnPlateau\n",
    "from tensorflow.keras.preprocessing.image import ImageDataGenerator\n"
   ]
  },
  {
   "cell_type": "code",
   "execution_count": 28,
   "id": "613bf305",
   "metadata": {},
   "outputs": [],
   "source": [
    "# Data load karo (apne data ka path lagao)\n",
    "train_df = pd.read_csv('../data/train.csv')\n",
    "\n",
    "# Features aur label alag karo\n",
    "X = train_df.drop('label', axis=1).values\n",
    "y = train_df['label'].values\n",
    "\n",
    "# Normalize karo (0-1 range me laao)\n",
    "X = X / 255.0\n",
    "\n",
    "# Reshape karo (CNN input: samples, height, width, channels)\n",
    "X = X.reshape(-1, 28, 28, 1)\n",
    "\n",
    "# Labels ko one-hot encode karo\n",
    "y_cat = to_categorical(y, num_classes=10)\n",
    "\n",
    "# Train-validation split\n",
    "X_train, X_val, y_train, y_val = train_test_split(X, y_cat, test_size=0.1, random_state=42)\n"
   ]
  },
  {
   "cell_type": "code",
   "execution_count": 66,
   "id": "9fcf8ae6",
   "metadata": {},
   "outputs": [],
   "source": [
    "import numpy as np\n",
    "X_train = np.asarray(X_train).astype(\"float32\")\n",
    "X_val   = np.asarray(X_val).astype(\"float32\")\n",
    "y_train = np.asarray(y_train)\n",
    "y_val   = np.asarray(y_val)\n"
   ]
  },
  {
   "cell_type": "code",
   "execution_count": 68,
   "id": "03e3da47",
   "metadata": {},
   "outputs": [],
   "source": [
    "from tensorflow.keras.preprocessing.image import ImageDataGenerator\n",
    "from tensorflow.keras.callbacks import ReduceLROnPlateau, EarlyStopping\n",
    "\n",
    "# ------ Stronger Augmentation (sirf TRAIN pe) ------\n",
    "train_datagen = ImageDataGenerator(\n",
    "    rotation_range=15,          # thora ghumao\n",
    "    width_shift_range=0.15,     # left/right shift\n",
    "    height_shift_range=0.15,    # up/down shift\n",
    "    shear_range=0.2,            # tilt / skew\n",
    "    zoom_range=0.15,            # zoom in/out\n",
    "    brightness_range=(0.8,1.2), # thori roshni dark/bright (grayscale pe bhi chalega)\n",
    "    fill_mode='constant',       # blank jagah ko black se bharo\n",
    "    cval=0.0\n",
    ")\n",
    "\n",
    "# (stats ki zarurat nahi but safe)\n",
    "train_datagen.fit(X_train)\n",
    "\n",
    "# Callbacks (recommended)\n",
    "lr_reduction = ReduceLROnPlateau(\n",
    "    monitor='val_accuracy', patience=2, factor=0.5, min_lr=1e-4, verbose=1\n",
    ")\n",
    "early_stop = EarlyStopping(\n",
    "    monitor='val_accuracy', patience=5, restore_best_weights=True, verbose=1\n",
    ")\n",
    "\n",
    "batch_size = 128\n",
    "epochs = 20  # augmentation ke sath thoda zyada epochs theek rehte hain\n",
    "\n",
    "\n"
   ]
  },
  {
   "cell_type": "code",
   "execution_count": 30,
   "id": "2d941da5",
   "metadata": {},
   "outputs": [
    {
     "name": "stderr",
     "output_type": "stream",
     "text": [
      "d:\\Git Hub Project\\Mnist Digit Recognition\\venv\\Lib\\site-packages\\keras\\src\\layers\\convolutional\\base_conv.py:113: UserWarning: Do not pass an `input_shape`/`input_dim` argument to a layer. When using Sequential models, prefer using an `Input(shape)` object as the first layer in the model instead.\n",
      "  super().__init__(activity_regularizer=activity_regularizer, **kwargs)\n"
     ]
    }
   ],
   "source": [
    "model = Sequential([\n",
    "    Conv2D(32, kernel_size=(5, 5), padding='Same', activation='relu', input_shape=(28, 28, 1)),\n",
    "    Conv2D(32, kernel_size=(5, 5), padding='Same', activation='relu'),\n",
    "    MaxPool2D(pool_size=(2, 2)),\n",
    "    Dropout(0.25),\n",
    "\n",
    "    Conv2D(64, kernel_size=(3, 3), padding='Same', activation='relu'),\n",
    "    Conv2D(64, kernel_size=(3, 3), padding='Same', activation='relu'),\n",
    "    MaxPool2D(pool_size=(2, 2), strides=(2, 2)),\n",
    "    Dropout(0.25),\n",
    "\n",
    "    Flatten(),\n",
    "    Dense(256, activation='relu'),\n",
    "    Dropout(0.5),\n",
    "    Dense(10, activation='softmax')\n",
    "])\n"
   ]
  },
  {
   "cell_type": "code",
   "execution_count": 70,
   "id": "de80fdc5",
   "metadata": {},
   "outputs": [
    {
     "name": "stdout",
     "output_type": "stream",
     "text": [
      "WARNING:tensorflow:From d:\\Git Hub Project\\Mnist Digit Recognition\\venv\\Lib\\site-packages\\keras\\src\\backend\\common\\global_state.py:82: The name tf.reset_default_graph is deprecated. Please use tf.compat.v1.reset_default_graph instead.\n",
      "\n"
     ]
    },
    {
     "name": "stderr",
     "output_type": "stream",
     "text": [
      "WARNING:tensorflow:From d:\\Git Hub Project\\Mnist Digit Recognition\\venv\\Lib\\site-packages\\keras\\src\\backend\\common\\global_state.py:82: The name tf.reset_default_graph is deprecated. Please use tf.compat.v1.reset_default_graph instead.\n",
      "\n"
     ]
    }
   ],
   "source": [
    "tf.keras.backend.clear_session()\n",
    "\n",
    "# if you loaded a model, prefer: model = load_model(PATH, compile=False)\n",
    "\n",
    "optimizer = Adam(learning_rate=1e-3)\n",
    "model.compile(optimizer=optimizer,\n",
    "              loss='categorical_crossentropy',\n",
    "              metrics=['accuracy'])\n"
   ]
  },
  {
   "cell_type": "code",
   "execution_count": 71,
   "id": "502ce2ef",
   "metadata": {},
   "outputs": [
    {
     "name": "stdout",
     "output_type": "stream",
     "text": [
      "Epoch 1/20\n",
      "295/295 - 312s - 1s/step - accuracy: 0.1214 - loss: 2.2770 - val_accuracy: 0.9693 - val_loss: 0.1104 - learning_rate: 1.0000e-03\n",
      "Epoch 2/20\n"
     ]
    },
    {
     "name": "stderr",
     "output_type": "stream",
     "text": [
      "d:\\Git Hub Project\\Mnist Digit Recognition\\venv\\Lib\\site-packages\\keras\\src\\trainers\\epoch_iterator.py:116: UserWarning: Your input ran out of data; interrupting training. Make sure that your dataset or generator can generate at least `steps_per_epoch * epochs` batches. You may need to use the `.repeat()` function when building your dataset.\n",
      "  self._interrupted_warning()\n"
     ]
    },
    {
     "name": "stdout",
     "output_type": "stream",
     "text": [
      "295/295 - 22s - 73ms/step - accuracy: 0.1250 - loss: 2.2510 - val_accuracy: 0.9695 - val_loss: 0.1106 - learning_rate: 1.0000e-03\n",
      "Epoch 3/20\n",
      "295/295 - 320s - 1s/step - accuracy: 0.1237 - loss: 2.2724 - val_accuracy: 0.9724 - val_loss: 0.1014 - learning_rate: 1.0000e-03\n",
      "Epoch 4/20\n",
      "295/295 - 22s - 74ms/step - accuracy: 0.1484 - loss: 2.2980 - val_accuracy: 0.9721 - val_loss: 0.1003 - learning_rate: 1.0000e-03\n",
      "Epoch 5/20\n",
      "\n",
      "Epoch 5: ReduceLROnPlateau reducing learning rate to 0.0005000000237487257.\n",
      "295/295 - 301s - 1s/step - accuracy: 0.1241 - loss: 2.2706 - val_accuracy: 0.9690 - val_loss: 0.1215 - learning_rate: 1.0000e-03\n",
      "Epoch 6/20\n",
      "295/295 - 38s - 129ms/step - accuracy: 0.1328 - loss: 2.2617 - val_accuracy: 0.9688 - val_loss: 0.1206 - learning_rate: 5.0000e-04\n",
      "Epoch 7/20\n",
      "\n",
      "Epoch 7: ReduceLROnPlateau reducing learning rate to 0.0002500000118743628.\n",
      "295/295 - 489s - 2s/step - accuracy: 0.1247 - loss: 2.2714 - val_accuracy: 0.9655 - val_loss: 0.1246 - learning_rate: 5.0000e-04\n",
      "Epoch 8/20\n",
      "295/295 - 23s - 78ms/step - accuracy: 0.0938 - loss: 2.2664 - val_accuracy: 0.9655 - val_loss: 0.1253 - learning_rate: 2.5000e-04\n",
      "Epoch 8: early stopping\n",
      "Restoring model weights from the end of the best epoch: 3.\n"
     ]
    }
   ],
   "source": [
    "history = model.fit(\n",
    "    train_datagen.flow(X_train, y_train, batch_size=batch_size, shuffle=True),\n",
    "    epochs=epochs,\n",
    "    validation_data=(X_val, y_val),\n",
    "    steps_per_epoch=len(X_train)//batch_size,\n",
    "    callbacks=[lr_reduction, early_stop],\n",
    "    verbose=2\n",
    ")"
   ]
  },
  {
   "cell_type": "code",
   "execution_count": 62,
   "id": "365efc8a",
   "metadata": {},
   "outputs": [
    {
     "name": "stdout",
     "output_type": "stream",
     "text": [
      "\u001b[1m132/132\u001b[0m \u001b[32m━━━━━━━━━━━━━━━━━━━━\u001b[0m\u001b[37m\u001b[0m \u001b[1m6s\u001b[0m 47ms/step\n",
      "Test/Validation Accuracy: 0.9931\n"
     ]
    }
   ],
   "source": [
    "# Validation/Test data par prediction karo\n",
    "y_pred = model.predict(X_val)                      # Model ki prediction probabilities\n",
    "y_pred_labels = np.argmax(y_pred, axis=1)          # Labels nikal lo (0-9)\n",
    "y_true_labels = np.argmax(y_val, axis=1)           # True labels\n",
    "\n",
    "# Accuracy nikal lo\n",
    "from sklearn.metrics import accuracy_score\n",
    "test_accuracy = accuracy_score(y_true_labels, y_pred_labels)\n",
    "print(f\"Test/Validation Accuracy: {test_accuracy:.4f}\")\n"
   ]
  },
  {
   "cell_type": "code",
   "execution_count": 34,
   "id": "0fac73c8",
   "metadata": {},
   "outputs": [
    {
     "name": "stdout",
     "output_type": "stream",
     "text": [
      "\u001b[1m132/132\u001b[0m \u001b[32m━━━━━━━━━━━━━━━━━━━━\u001b[0m\u001b[37m\u001b[0m \u001b[1m4s\u001b[0m 30ms/step\n"
     ]
    },
    {
     "data": {
      "image/png": "[encoded data removed]",
      "text/plain": [
       "<Figure size 640x480 with 2 Axes>"
      ]
     },
     "metadata": {},
     "output_type": "display_data"
    }
   ],
   "source": [
    "# Predict validation set\n",
    "Y_pred = model.predict(X_val)\n",
    "Y_pred_classes = np.argmax(Y_pred, axis=1)\n",
    "Y_true = np.argmax(y_val, axis=1)\n",
    "\n",
    "# Confusion matrix\n",
    "confusion_mtx = confusion_matrix(Y_true, Y_pred_classes)\n",
    "\n",
    "# Confusion matrix plot function\n",
    "def plot_confusion_matrix(cm, classes, normalize=False, title='Confusion matrix', cmap=plt.cm.Blues):\n",
    "    plt.imshow(cm, interpolation='nearest', cmap=cmap)\n",
    "    plt.title(title)\n",
    "    plt.colorbar()\n",
    "    tick_marks = np.arange(len(classes))\n",
    "    plt.xticks(tick_marks, classes, rotation=45)\n",
    "    plt.yticks(tick_marks, classes)\n",
    "\n",
    "    if normalize:\n",
    "        cm = cm.astype('float') / cm.sum(axis=1)[:, np.newaxis]\n",
    "\n",
    "    thresh = cm.max() / 2.\n",
    "    for i, j in itertools.product(range(cm.shape[0]), range(cm.shape[1])):\n",
    "        plt.text(j, i, cm[i, j],\n",
    "                 horizontalalignment=\"center\",\n",
    "                 color=\"white\" if cm[i, j] > thresh else \"black\")\n",
    "\n",
    "    plt.tight_layout()\n",
    "    plt.ylabel('True label')\n",
    "    plt.xlabel('Predicted label')\n",
    "\n",
    "# Plot confusion matrix\n",
    "plot_confusion_matrix(confusion_mtx, classes=range(10))\n",
    "plt.show()\n"
   ]
  },
  {
   "cell_type": "code",
   "execution_count": 72,
   "id": "e0536c82",
   "metadata": {},
   "outputs": [
    {
     "data": {
      "image/png": "[encoded data removed]",
      "text/plain": [
       "<Figure size 640x480 with 6 Axes>"
      ]
     },
     "metadata": {},
     "output_type": "display_data"
    }
   ],
   "source": [
    "errors = (Y_pred_classes - Y_true != 0)\n",
    "\n",
    "Y_pred_classes_errors = Y_pred_classes[errors]\n",
    "Y_pred_errors = Y_pred[errors]\n",
    "Y_true_errors = Y_true[errors]\n",
    "X_val_errors = X_val[errors]\n",
    "\n",
    "def display_errors(errors_index, img_errors, pred_errors, obs_errors):\n",
    "    n = 0\n",
    "    nrows = 2\n",
    "    ncols = 3\n",
    "    fig, ax = plt.subplots(nrows, ncols, sharex=True, sharey=True)\n",
    "    for row in range(nrows):\n",
    "        for col in range(ncols):\n",
    "            error = errors_index[n]\n",
    "            ax[row, col].imshow((img_errors[error]).reshape((28, 28)))\n",
    "            ax[row, col].set_title(\"Predicted :{}\\nTrue :{}\".format(pred_errors[error], obs_errors[error]))\n",
    "            n += 1\n",
    "\n",
    "# Probabilities of wrong predictions\n",
    "Y_pred_errors_prob = np.max(Y_pred_errors, axis=1)\n",
    "true_prob_errors = np.diagonal(np.take(Y_pred_errors, Y_true_errors, axis=1))\n",
    "delta_pred_true_errors = Y_pred_errors_prob - true_prob_errors\n",
    "sorted_delta_errors = np.argsort(delta_pred_true_errors)\n",
    "most_important_errors = sorted_delta_errors[-6:]\n",
    "\n",
    "# Show top 6 errors\n",
    "display_errors(most_important_errors, X_val_errors, Y_pred_classes_errors, Y_true_errors)\n",
    "plt.show()\n"
   ]
  },
  {
   "cell_type": "code",
   "execution_count": 36,
   "id": "8cc470d2",
   "metadata": {},
   "outputs": [
    {
     "name": "stderr",
     "output_type": "stream",
     "text": [
      "WARNING:absl:You are saving your model as an HDF5 file via `model.save()` or `keras.saving.save_model(model)`. This file format is considered legacy. We recommend using instead the native Keras format, e.g. `model.save('my_model.keras')` or `keras.saving.save_model(model, 'my_model.keras')`. \n"
     ]
    }
   ],
   "source": [
    "model.save('outputs/mnist_model.h5') "
   ]
  },
  {
   "cell_type": "code",
   "execution_count": 40,
   "id": "4660bd75",
   "metadata": {},
   "outputs": [],
   "source": [
    "plt.figure(figsize=(8,6))\n",
    "plot_confusion_matrix(confusion_mtx, classes=range(10))  # Tumhara function\n",
    "plt.savefig(\"confusion_matrix.png\")   # Image save ho jayegi as PNG\n",
    "plt.close()"
   ]
  },
  {
   "cell_type": "code",
   "execution_count": 41,
   "id": "aa787316",
   "metadata": {},
   "outputs": [],
   "source": [
    "plt.plot(history.history['accuracy'], label='Train Accuracy')\n",
    "plt.plot(history.history['val_accuracy'], label='Validation Accuracy')\n",
    "plt.title('Model Accuracy')\n",
    "plt.xlabel('Epoch')\n",
    "plt.ylabel('Accuracy')\n",
    "plt.legend()\n",
    "plt.savefig('model_accuracy.png')  # Image save ho jayegi\n",
    "plt.close()\n"
   ]
  },
  {
   "cell_type": "code",
   "execution_count": 42,
   "id": "8aa25fc4",
   "metadata": {},
   "outputs": [
    {
     "name": "stdout",
     "output_type": "stream",
     "text": [
      "\u001b[1m1/1\u001b[0m \u001b[32m━━━━━━━━━━━━━━━━━━━━\u001b[0m\u001b[37m\u001b[0m \u001b[1m0s\u001b[0m 98ms/step\n",
      "\u001b[1m1/1\u001b[0m \u001b[32m━━━━━━━━━━━━━━━━━━━━\u001b[0m\u001b[37m\u001b[0m \u001b[1m0s\u001b[0m 61ms/step\n",
      "\u001b[1m1/1\u001b[0m \u001b[32m━━━━━━━━━━━━━━━━━━━━\u001b[0m\u001b[37m\u001b[0m \u001b[1m0s\u001b[0m 60ms/step\n",
      "\u001b[1m1/1\u001b[0m \u001b[32m━━━━━━━━━━━━━━━━━━━━\u001b[0m\u001b[37m\u001b[0m \u001b[1m0s\u001b[0m 62ms/step\n",
      "\u001b[1m1/1\u001b[0m \u001b[32m━━━━━━━━━━━━━━━━━━━━\u001b[0m\u001b[37m\u001b[0m \u001b[1m0s\u001b[0m 68ms/step\n",
      "\u001b[1m1/1\u001b[0m \u001b[32m━━━━━━━━━━━━━━━━━━━━\u001b[0m\u001b[37m\u001b[0m \u001b[1m0s\u001b[0m 67ms/step\n",
      "\u001b[1m1/1\u001b[0m \u001b[32m━━━━━━━━━━━━━━━━━━━━\u001b[0m\u001b[37m\u001b[0m \u001b[1m0s\u001b[0m 65ms/step\n",
      "\u001b[1m1/1\u001b[0m \u001b[32m━━━━━━━━━━━━━━━━━━━━\u001b[0m\u001b[37m\u001b[0m \u001b[1m0s\u001b[0m 66ms/step\n",
      "\u001b[1m1/1\u001b[0m \u001b[32m━━━━━━━━━━━━━━━━━━━━\u001b[0m\u001b[37m\u001b[0m \u001b[1m0s\u001b[0m 69ms/step\n"
     ]
    }
   ],
   "source": [
    "# Example: Randomly select 9 images from validation set aur unko show karo with predicted and true label\n",
    "\n",
    "import random\n",
    "\n",
    "indices = random.sample(range(len(X_val)), 9)\n",
    "plt.figure(figsize=(10,10))\n",
    "for i, idx in enumerate(indices):\n",
    "    img = X_val[idx].reshape(28,28)\n",
    "    true_label = np.argmax(y_val[idx])\n",
    "    pred_label = np.argmax(model.predict(X_val[idx].reshape(1,28,28,1)))\n",
    "    plt.subplot(3,3,i+1)\n",
    "    plt.imshow(img, cmap='gray')\n",
    "    plt.title(f\"Pred: {pred_label}, True: {true_label}\")\n",
    "    plt.axis('off')\n",
    "plt.tight_layout()\n",
    "plt.savefig('digit_predictions.png')  # Image save ho jayegi\n",
    "plt.close()\n"
   ]
  },
  {
   "cell_type": "code",
   "execution_count": 47,
   "id": "58a556de",
   "metadata": {},
   "outputs": [
    {
     "name": "stdout",
     "output_type": "stream",
     "text": [
      "(28000, 784)\n"
     ]
    },
    {
     "data": {
      "text/html": [
       "<div>\n",
       "<style scoped>\n",
       "    .dataframe tbody tr th:only-of-type {\n",
       "        vertical-align: middle;\n",
       "    }\n",
       "\n",
       "    .dataframe tbody tr th {\n",
       "        vertical-align: top;\n",
       "    }\n",
       "\n",
       "    .dataframe thead th {\n",
       "        text-align: right;\n",
       "    }\n",
       "</style>\n",
       "<table border=\"1\" class=\"dataframe\">\n",
       "  <thead>\n",
       "    <tr style=\"text-align: right;\">\n",
       "      <th></th>\n",
       "      <th>pixel0</th>\n",
       "      <th>pixel1</th>\n",
       "      <th>pixel2</th>\n",
       "      <th>pixel3</th>\n",
       "      <th>pixel4</th>\n",
       "      <th>pixel5</th>\n",
       "      <th>pixel6</th>\n",
       "      <th>pixel7</th>\n",
       "      <th>pixel8</th>\n",
       "      <th>pixel9</th>\n",
       "      <th>...</th>\n",
       "      <th>pixel774</th>\n",
       "      <th>pixel775</th>\n",
       "      <th>pixel776</th>\n",
       "      <th>pixel777</th>\n",
       "      <th>pixel778</th>\n",
       "      <th>pixel779</th>\n",
       "      <th>pixel780</th>\n",
       "      <th>pixel781</th>\n",
       "      <th>pixel782</th>\n",
       "      <th>pixel783</th>\n",
       "    </tr>\n",
       "  </thead>\n",
       "  <tbody>\n",
       "    <tr>\n",
       "      <th>0</th>\n",
       "      <td>0</td>\n",
       "      <td>0</td>\n",
       "      <td>0</td>\n",
       "      <td>0</td>\n",
       "      <td>0</td>\n",
       "      <td>0</td>\n",
       "      <td>0</td>\n",
       "      <td>0</td>\n",
       "      <td>0</td>\n",
       "      <td>0</td>\n",
       "      <td>...</td>\n",
       "      <td>0</td>\n",
       "      <td>0</td>\n",
       "      <td>0</td>\n",
       "      <td>0</td>\n",
       "      <td>0</td>\n",
       "      <td>0</td>\n",
       "      <td>0</td>\n",
       "      <td>0</td>\n",
       "      <td>0</td>\n",
       "      <td>0</td>\n",
       "    </tr>\n",
       "    <tr>\n",
       "      <th>1</th>\n",
       "      <td>0</td>\n",
       "      <td>0</td>\n",
       "      <td>0</td>\n",
       "      <td>0</td>\n",
       "      <td>0</td>\n",
       "      <td>0</td>\n",
       "      <td>0</td>\n",
       "      <td>0</td>\n",
       "      <td>0</td>\n",
       "      <td>0</td>\n",
       "      <td>...</td>\n",
       "      <td>0</td>\n",
       "      <td>0</td>\n",
       "      <td>0</td>\n",
       "      <td>0</td>\n",
       "      <td>0</td>\n",
       "      <td>0</td>\n",
       "      <td>0</td>\n",
       "      <td>0</td>\n",
       "      <td>0</td>\n",
       "      <td>0</td>\n",
       "    </tr>\n",
       "    <tr>\n",
       "      <th>2</th>\n",
       "      <td>0</td>\n",
       "      <td>0</td>\n",
       "      <td>0</td>\n",
       "      <td>0</td>\n",
       "      <td>0</td>\n",
       "      <td>0</td>\n",
       "      <td>0</td>\n",
       "      <td>0</td>\n",
       "      <td>0</td>\n",
       "      <td>0</td>\n",
       "      <td>...</td>\n",
       "      <td>0</td>\n",
       "      <td>0</td>\n",
       "      <td>0</td>\n",
       "      <td>0</td>\n",
       "      <td>0</td>\n",
       "      <td>0</td>\n",
       "      <td>0</td>\n",
       "      <td>0</td>\n",
       "      <td>0</td>\n",
       "      <td>0</td>\n",
       "    </tr>\n",
       "    <tr>\n",
       "      <th>3</th>\n",
       "      <td>0</td>\n",
       "      <td>0</td>\n",
       "      <td>0</td>\n",
       "      <td>0</td>\n",
       "      <td>0</td>\n",
       "      <td>0</td>\n",
       "      <td>0</td>\n",
       "      <td>0</td>\n",
       "      <td>0</td>\n",
       "      <td>0</td>\n",
       "      <td>...</td>\n",
       "      <td>0</td>\n",
       "      <td>0</td>\n",
       "      <td>0</td>\n",
       "      <td>0</td>\n",
       "      <td>0</td>\n",
       "      <td>0</td>\n",
       "      <td>0</td>\n",
       "      <td>0</td>\n",
       "      <td>0</td>\n",
       "      <td>0</td>\n",
       "    </tr>\n",
       "    <tr>\n",
       "      <th>4</th>\n",
       "      <td>0</td>\n",
       "      <td>0</td>\n",
       "      <td>0</td>\n",
       "      <td>0</td>\n",
       "      <td>0</td>\n",
       "      <td>0</td>\n",
       "      <td>0</td>\n",
       "      <td>0</td>\n",
       "      <td>0</td>\n",
       "      <td>0</td>\n",
       "      <td>...</td>\n",
       "      <td>0</td>\n",
       "      <td>0</td>\n",
       "      <td>0</td>\n",
       "      <td>0</td>\n",
       "      <td>0</td>\n",
       "      <td>0</td>\n",
       "      <td>0</td>\n",
       "      <td>0</td>\n",
       "      <td>0</td>\n",
       "      <td>0</td>\n",
       "    </tr>\n",
       "  </tbody>\n",
       "</table>\n",
       "<p>5 rows × 784 columns</p>\n",
       "</div>"
      ],
      "text/plain": [
       "   pixel0  pixel1  pixel2  pixel3  pixel4  pixel5  pixel6  pixel7  pixel8  \\\n",
       "0       0       0       0       0       0       0       0       0       0   \n",
       "1       0       0       0       0       0       0       0       0       0   \n",
       "2       0       0       0       0       0       0       0       0       0   \n",
       "3       0       0       0       0       0       0       0       0       0   \n",
       "4       0       0       0       0       0       0       0       0       0   \n",
       "\n",
       "   pixel9  ...  pixel774  pixel775  pixel776  pixel777  pixel778  pixel779  \\\n",
       "0       0  ...         0         0         0         0         0         0   \n",
       "1       0  ...         0         0         0         0         0         0   \n",
       "2       0  ...         0         0         0         0         0         0   \n",
       "3       0  ...         0         0         0         0         0         0   \n",
       "4       0  ...         0         0         0         0         0         0   \n",
       "\n",
       "   pixel780  pixel781  pixel782  pixel783  \n",
       "0         0         0         0         0  \n",
       "1         0         0         0         0  \n",
       "2         0         0         0         0  \n",
       "3         0         0         0         0  \n",
       "4         0         0         0         0  \n",
       "\n",
       "[5 rows x 784 columns]"
      ]
     },
     "execution_count": 47,
     "metadata": {},
     "output_type": "execute_result"
    }
   ],
   "source": [
    "\n",
    "import pandas as pd\n",
    "test_df = pd.read_csv('../data/test.csv')  # path apne hisab se lagao\n",
    "print(test_df.shape)                    # Check shape\n",
    "test_df.head()\n"
   ]
  },
  {
   "cell_type": "code",
   "execution_count": 48,
   "id": "4b012fbb",
   "metadata": {},
   "outputs": [],
   "source": [
    "X_test = test_df.values           # Agar test.csv me sirf pixel columns hain\n",
    "X_test = X_test / 255.0           # Normalize karo\n",
    "X_test = X_test.reshape(-1, 28, 28, 1)  # Reshape for CNN input\n"
   ]
  },
  {
   "cell_type": "code",
   "execution_count": 50,
   "id": "5216e2db",
   "metadata": {},
   "outputs": [
    {
     "name": "stderr",
     "output_type": "stream",
     "text": [
      "WARNING:absl:Compiled the loaded model, but the compiled metrics have yet to be built. `model.compile_metrics` will be empty until you train or evaluate the model.\n"
     ]
    }
   ],
   "source": [
    "from tensorflow.keras.models import load_model\n",
    "model = load_model('../outputs/mnist_model.h5')\n"
   ]
  },
  {
   "cell_type": "code",
   "execution_count": 51,
   "id": "21734134",
   "metadata": {},
   "outputs": [
    {
     "name": "stdout",
     "output_type": "stream",
     "text": [
      "\u001b[1m875/875\u001b[0m \u001b[32m━━━━━━━━━━━━━━━━━━━━\u001b[0m\u001b[37m\u001b[0m \u001b[1m25s\u001b[0m 28ms/step\n",
      "[2 0 9 ... 3 9 2]\n"
     ]
    }
   ],
   "source": [
    "# Poore test set pe prediction\n",
    "predictions = model.predict(X_test)\n",
    "predicted_labels = predictions.argmax(axis=1)\n",
    "print(predicted_labels)  # Sare test images ke predicted digits\n"
   ]
  },
  {
   "cell_type": "code",
   "execution_count": 54,
   "id": "143ce9e5",
   "metadata": {},
   "outputs": [
    {
     "name": "stdout",
     "output_type": "stream",
     "text": [
      "\u001b[1m1/1\u001b[0m \u001b[32m━━━━━━━━━━━━━━━━━━━━\u001b[0m\u001b[37m\u001b[0m \u001b[1m1s\u001b[0m 528ms/step\n",
      "Predicted Digit: 0\n"
     ]
    },
    {
     "data": {
      "image/png": "[encoded data removed]",
      "text/plain": [
       "<Figure size 640x480 with 1 Axes>"
      ]
     },
     "metadata": {},
     "output_type": "display_data"
    }
   ],
   "source": [
    "# Koi bhi random index choose karo, e.g., 5th image\n",
    "idx = 15555\n",
    "img = X_test[idx].reshape(1,28,28,1)\n",
    "pred = model.predict(img)\n",
    "digit = pred.argmax()\n",
    "print(f\"Predicted Digit: {digit}\")\n",
    "\n",
    "# Show bhi kar do\n",
    "import matplotlib.pyplot as plt\n",
    "plt.imshow(X_test[idx].reshape(28,28), cmap='gray')\n",
    "plt.title(f\"Predicted: {digit}\")\n",
    "plt.axis('off')\n",
    "plt.show()\n"
   ]
  },
  {
   "cell_type": "code",
   "execution_count": 60,
   "id": "429e79dd",
   "metadata": {},
   "outputs": [],
   "source": [
    "def preprocess_array(arr):\n",
    "    from PIL import Image\n",
    "    import numpy as np\n",
    "\n",
    "    # ---- make it 2D 28x28 ----\n",
    "    arr = np.asarray(arr)\n",
    "    arr = np.squeeze(arr)            # (28,28,1) -> (28,28)\n",
    "    if arr.ndim == 3:                # just in case\n",
    "        arr = arr[:, :, 0]\n",
    "\n",
    "    # ---- scale to 0..255 float ----\n",
    "    arr = arr.astype('float32')\n",
    "    if arr.max() <= 1.0:\n",
    "        arr *= 255.0\n",
    "\n",
    "    # ---- auto-invert if background bright ----\n",
    "    if arr.mean() > 127:\n",
    "        arr = 255.0 - arr\n",
    "\n",
    "    # ---- normalize 0..1 ----\n",
    "    arr /= 255.0\n",
    "\n",
    "    # ---- light threshold (denoise) ----\n",
    "    arr = np.where(arr < 0.05, 0.0, arr)\n",
    "\n",
    "    # ---- bbox of digit (now 2D, so where returns 2 arrays) ----\n",
    "    ys, xs = np.where(arr > 0.05)\n",
    "    if len(xs) == 0 or len(ys) == 0:\n",
    "        arr = np.pad(arr, 4, mode='constant', constant_values=0.0)\n",
    "        arr = Image.fromarray((arr * 255).astype('uint8')).resize((28, 28), Image.BILINEAR)\n",
    "        arr = np.asarray(arr).astype('float32') / 255.0\n",
    "        return arr.reshape(1, 28, 28, 1)\n",
    "\n",
    "    y1, y2 = ys.min(), ys.max() + 1\n",
    "    x1, x2 = xs.min(), xs.max() + 1\n",
    "    crop = arr[y1:y2, x1:x2]\n",
    "\n",
    "    # ---- pad to square ----\n",
    "    h, w = crop.shape\n",
    "    side = max(h, w)\n",
    "    pt = (side - h)//2; pb = side - h - pt\n",
    "    pl = (side - w)//2; pr = side - w - pl\n",
    "    square = np.pad(crop, ((pt,pb),(pl,pr)), mode='constant', constant_values=0.0)\n",
    "\n",
    "    # ---- resize 20x20 and pad to 28x28 ----\n",
    "    img20 = Image.fromarray((square * 255).astype('uint8')).resize((20, 20), Image.BILINEAR)\n",
    "    arr20 = np.asarray(img20).astype('float32') / 255.0\n",
    "    arr28 = np.pad(arr20, 4, mode='constant', constant_values=0.0)\n",
    "\n",
    "    return arr28.reshape(1, 28, 28, 1).astype('float32')\n"
   ]
  },
  {
   "cell_type": "code",
   "execution_count": 61,
   "id": "edd1e16f",
   "metadata": {},
   "outputs": [
    {
     "name": "stdout",
     "output_type": "stream",
     "text": [
      "\u001b[1m132/132\u001b[0m \u001b[32m━━━━━━━━━━━━━━━━━━━━\u001b[0m\u001b[37m\u001b[0m \u001b[1m7s\u001b[0m 49ms/step\n"
     ]
    }
   ],
   "source": [
    "X_val_proc = np.vstack([preprocess_array(X_val[i]) for i in range(len(X_val))])\n",
    "y_pred = model.predict(X_val_proc)\n"
   ]
  }
 ],
 "metadata": {
  "kernelspec": {
   "display_name": "venv",
   "language": "python",
   "name": "python3"
  },
  "language_info": {
   "codemirror_mode": {
    "name": "ipython",
    "version": 3
   },
   "file_extension": ".py",
   "mimetype": "text/x-python",
   "name": "python",
   "nbconvert_exporter": "python",
   "pygments_lexer": "ipython3",
   "version": "3.13.3"
  }
 },
 "nbformat": 4,
 "nbformat_minor": 5
}
